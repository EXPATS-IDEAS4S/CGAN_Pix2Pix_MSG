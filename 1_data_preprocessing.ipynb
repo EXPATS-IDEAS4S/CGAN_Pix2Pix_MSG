{
 "cells": [
  {
   "cell_type": "markdown",
   "id": "dressed-irish",
   "metadata": {},
   "source": [
    "### - Image to Image Translation using Pix2Pix -\n",
    "# Preprocessing dataset"
   ]
  },
  {
   "cell_type": "code",
   "execution_count": 1,
   "id": "invisible-contrary",
   "metadata": {},
   "outputs": [],
   "source": [
    "import sys"
   ]
  },
  {
   "cell_type": "code",
   "execution_count": 2,
   "id": "62a8f2bb",
   "metadata": {},
   "outputs": [],
   "source": [
    "# add folder data_generation to path so that we can read in our own modules from this folder\n",
    "sys.path.append(\"data_preprocessing\")\n",
    "\n",
    "# path to project directory\n",
    "PROJECT_DIR = \"/net/merisi/pbigalke/teaching/METFUT2024/CGAN_Pix2Pix_MSG\""
   ]
  },
  {
   "cell_type": "markdown",
   "id": "835ec9a7",
   "metadata": {},
   "source": [
    "#### Copy and sort image pairs into train and validation sets"
   ]
  },
  {
   "cell_type": "code",
   "execution_count": null,
   "id": "5756cec0",
   "metadata": {},
   "outputs": [],
   "source": [
    "# define absolute path to msg images\n",
    "MSG_IMAGES_PATH = f\"{PROJECT_DIR}/test_data\"\n",
    "\n",
    "# define path where processed data should be stored to\n",
    "IMAGE_PATH = f\"{PROJECT_DIR}/VIS_IR_images\"\n",
    "\n",
    "# define training set ratio (how much of the data is used for training)\n",
    "train_ratio = 0.9\n",
    "\n",
    "# import method to copy and sort image pairs\n",
    "from data_preprocessing import sort_image_pairs_into_train_val\n",
    "\n",
    "# run sorting method\n",
    "sort_image_pairs_into_train_val(MSG_IMAGES_PATH, IMAGE_PATH, train_ratio=train_ratio)"
   ]
  },
  {
   "cell_type": "markdown",
   "id": "13c2ee17",
   "metadata": {},
   "source": [
    "#### Load dataset"
   ]
  },
  {
   "cell_type": "code",
   "execution_count": null,
   "id": "232bc38d",
   "metadata": {},
   "outputs": [],
   "source": [
    "from data_preprocessing import get_IR_images\n",
    "\n",
    "# get all training data\n",
    "training_IR_images = get_IR_images(f\"{IMAGE_PATH}/train\")"
   ]
  },
  {
   "cell_type": "code",
   "execution_count": null,
   "id": "1f338b57",
   "metadata": {},
   "outputs": [],
   "source": [
    "\n",
    "for f in training_IR_images[:2]:\n",
    "    ir_img, vis_img = load_image_pair(f)\n",
    "    print(type(ir_img), ir_img.numpy().shape, type(ir_img.numpy()))\n",
    "    plot_image_pair(ir_img, vis_img)"
   ]
  }
 ],
 "metadata": {
  "kernelspec": {
   "display_name": "Python 3",
   "language": "python",
   "name": "python3"
  },
  "language_info": {
   "codemirror_mode": {
    "name": "ipython",
    "version": 3
   },
   "file_extension": ".py",
   "mimetype": "text/x-python",
   "name": "python",
   "nbconvert_exporter": "python",
   "pygments_lexer": "ipython3",
   "version": "3.11.9"
  }
 },
 "nbformat": 4,
 "nbformat_minor": 5
}
