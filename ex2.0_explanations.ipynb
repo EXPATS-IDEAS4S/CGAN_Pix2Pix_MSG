{
 "cells": [
  {
   "cell_type": "markdown",
   "id": "dressed-irish",
   "metadata": {},
   "source": [
    "## Exercise 2 - CGAN generating visible from infra-red satellite images\n",
    "\n",
    "Explain the overall goal here"
   ]
  },
  {
   "cell_type": "markdown",
   "id": "97d34db7",
   "metadata": {},
   "source": [
    "### 2.1 Preprocessing the dataset\n",
    "\n",
    "(a) Train and test dataset\n",
    "\n",
    "(b) Load and plot example images\n",
    "\n",
    "(c) Normalization\n",
    "\n",
    "(d) Data augmentation\n",
    "\n",
    "(e) Loading in the complete datasets"
   ]
  },
  {
   "cell_type": "markdown",
   "id": "588046ec",
   "metadata": {},
   "source": []
  },
  {
   "cell_type": "markdown",
   "id": "2e3387e3",
   "metadata": {},
   "source": [
    "### 2.2 Setting up the model\n",
    "\n",
    "(a) "
   ]
  },
  {
   "cell_type": "markdown",
   "id": "f7859c89",
   "metadata": {},
   "source": [
    "### 2.3 Training the network\n",
    "\n",
    "(a)"
   ]
  }
 ],
 "metadata": {
  "kernelspec": {
   "display_name": "Python 3",
   "language": "python",
   "name": "python3"
  },
  "language_info": {
   "codemirror_mode": {
    "name": "ipython",
    "version": 3
   },
   "file_extension": ".py",
   "mimetype": "text/x-python",
   "name": "python",
   "nbconvert_exporter": "python",
   "pygments_lexer": "ipython3",
   "version": "3.11.9"
  }
 },
 "nbformat": 4,
 "nbformat_minor": 5
}
