{
 "cells": [
  {
   "cell_type": "markdown",
   "id": "dressed-irish",
   "metadata": {},
   "source": [
    "### - Image to Image Translation using Pix2Pix -\n",
    "# Generating dataset"
   ]
  },
  {
   "cell_type": "code",
   "execution_count": 8,
   "id": "invisible-contrary",
   "metadata": {},
   "outputs": [],
   "source": [
    "import os\n",
    "import numpy as np\n",
    "from matplotlib import pyplot as plt\n",
    "import sys"
   ]
  },
  {
   "cell_type": "code",
   "execution_count": 10,
   "id": "62a8f2bb",
   "metadata": {},
   "outputs": [],
   "source": [
    "# read in your own modules\n",
    "sys.path.append(\"data_generation\")\n",
    "from find_dataset_value_range import investigate_range_of_dataset\n",
    "\n",
    "# path to project directory\n",
    "PROJECT_DIR = \"/net/merisi/pbigalke/teaching/METFUT2024/CGAN_Pix2Pix_MSG\""
   ]
  },
  {
   "cell_type": "code",
   "execution_count": 12,
   "id": "laughing-korean",
   "metadata": {},
   "outputs": [],
   "source": [
    "IMAGE_SIZE = 256\n",
    "YEARS = [2023]\n",
    "MONTHS = [7]\n",
    "HOUR_START = \"10:00:00\"  # only produce MSG image pairs from this time onward each day\n",
    "HOUR_END = \"16:00:00\"  # only produce MSG image pairs until this time each day\n",
    "\n",
    "# define absolute path to msg data\n",
    "MSG_PATH = f\"/net/merisi/pbigalke/teaching/METFUT2024/msg_test_data\"\n",
    "\n",
    "# define output path and create of doesn't exist\n",
    "OUTPUT_PATH = f\"{PROJECT_DIR}/output/preprocessing_dataset\"\n",
    "if not os.path.exists(OUTPUT_PATH):\n",
    "    os.makedirs(OUTPUT_PATH)\n",
    "\n",
    "# define channels of interest and quantiles to be calculated from whole value distribution\n",
    "channels = [\"VIS006\", \"VIS008\", \"IR_108\"]\n",
    "quantiles = [0, 0.001, 0.01, 0.99, 0.999, 1]"
   ]
  },
  {
   "cell_type": "code",
   "execution_count": null,
   "id": "5756cec0",
   "metadata": {},
   "outputs": [],
   "source": [
    "\n",
    "# run the investigation of value range in dataset\n",
    "investigate_range_of_dataset(msg_path, channels, \n",
    "                                years, months, hour_start, hour_end, \n",
    "                                quantiles, output_path)"
   ]
  }
 ],
 "metadata": {
  "kernelspec": {
   "display_name": "Python 3",
   "language": "python",
   "name": "python3"
  },
  "language_info": {
   "codemirror_mode": {
    "name": "ipython",
    "version": 3
   },
   "file_extension": ".py",
   "mimetype": "text/x-python",
   "name": "python",
   "nbconvert_exporter": "python",
   "pygments_lexer": "ipython3",
   "version": "3.11.9"
  }
 },
 "nbformat": 4,
 "nbformat_minor": 5
}
