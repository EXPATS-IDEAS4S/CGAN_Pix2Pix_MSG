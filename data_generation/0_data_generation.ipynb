{
 "cells": [
  {
   "cell_type": "markdown",
   "id": "dressed-irish",
   "metadata": {},
   "source": [
    "### - Image to Image Translation using Pix2Pix -\n",
    "# Generating dataset"
   ]
  },
  {
   "cell_type": "code",
   "execution_count": 7,
   "id": "invisible-contrary",
   "metadata": {},
   "outputs": [],
   "source": [
    "import os\n",
    "import sys\n",
    "import glob"
   ]
  },
  {
   "cell_type": "code",
   "execution_count": 2,
   "id": "62a8f2bb",
   "metadata": {},
   "outputs": [],
   "source": [
    "# add folder data_generation to path so that we can read in our own modules from this folder\n",
    "sys.path.append(\"data_generation\")\n",
    "\n",
    "# path to project directory\n",
    "PROJECT_DIR = \"/net/merisi/pbigalke/teaching/METFUT2024/CGAN_Pix2Pix_MSG\""
   ]
  },
  {
   "cell_type": "markdown",
   "id": "95bf9d29",
   "metadata": {},
   "source": [
    "#### Defining the parameters of study period and paths"
   ]
  },
  {
   "cell_type": "code",
   "execution_count": 3,
   "id": "laughing-korean",
   "metadata": {},
   "outputs": [
    {
     "name": "stdout",
     "output_type": "stream",
     "text": [
      "number of MSG files in dataset:  22\n"
     ]
    }
   ],
   "source": [
    "YEARS = [2023]\n",
    "MONTHS = [7]\n",
    "HOUR_START = \"10:00:00\"  # only produce MSG image pairs from this time onward each day\n",
    "HOUR_END = \"16:00:00\"  # only produce MSG image pairs until this time each day\n",
    "\n",
    "# define absolute path to msg data\n",
    "MSG_PATH = f\"/net/merisi/pbigalke/teaching/METFUT2024/msg_test_data\"\n",
    "\n",
    "# get list of MSG files within study period:\n",
    "from helper_data_generation import get_all_files_in_study_period\n",
    "MSG_FILES = get_all_files_in_study_period(MSG_PATH, YEARS, MONTHS)\n",
    "print(\"number of MSG files in dataset: \", len(MSG_FILES))"
   ]
  },
  {
   "cell_type": "markdown",
   "id": "835ec9a7",
   "metadata": {},
   "source": [
    "#### Investigating the distribution of values in dataset to define a common value range"
   ]
  },
  {
   "cell_type": "code",
   "execution_count": null,
   "id": "5756cec0",
   "metadata": {},
   "outputs": [],
   "source": [
    "# define channels of interest and quantiles to be calculated from whole value distribution\n",
    "channels = [\"VIS006\", \"IR_108\"]  # \"VIS008\"\n",
    "quantiles = [0.01, 0.99]\n",
    "\n",
    "# define output path for distribution plots and create if doesn't exist\n",
    "output_path_value_range = f\"{PROJECT_DIR}/output/preprocessing_dataset\"\n",
    "if not os.path.exists(output_path_value_range):\n",
    "    os.makedirs(output_path_value_range)"
   ]
  },
  {
   "cell_type": "code",
   "execution_count": null,
   "id": "20968937",
   "metadata": {},
   "outputs": [],
   "source": [
    "from find_dataset_value_range import investigate_range_of_dataset\n",
    "\n",
    "# run the investigation of value range in dataset\n",
    "investigate_range_of_dataset(MSG_FILES, channels, HOUR_START, HOUR_END, quantiles, output_path_value_range)"
   ]
  },
  {
   "cell_type": "markdown",
   "id": "f75e1879",
   "metadata": {},
   "source": [
    "#### Preparation of image dataset"
   ]
  },
  {
   "cell_type": "code",
   "execution_count": 4,
   "id": "164d7bcd",
   "metadata": {},
   "outputs": [
    {
     "name": "stdout",
     "output_type": "stream",
     "text": [
      "/net/merisi/pbigalke/teaching/METFUT2024/CGAN_Pix2Pix_MSG/test_data\n"
     ]
    }
   ],
   "source": [
    "# define image size\n",
    "IMAGE_SIZE = 128\n",
    "\n",
    "# define channel settings (colormaps and value ranges)\n",
    "channel_settings = {\"VIS006\": {\"cmap\": \"gray\", \n",
    "                               \"vmin\": 2.560,  # use 0.01 quantile for lower color range boundary\n",
    "                               \"vmax\": 64.242},  # use 0.99 quantile for upper color range boundary\n",
    "                    \"IR_108\": {\"cmap\": \"gray_r\", \n",
    "                               \"vmin\": 222.083,  # use 0.01 quantile for lower color range boundary\n",
    "                               \"vmax\": 303.431}}  # use 0.99 quantile for upper color range boundary\n",
    "\n",
    "# define path to save images to\n",
    "output_path_images = f\"{PROJECT_DIR}/test_data\"\n",
    "if not os.path.exists(output_path_images):\n",
    "    os.makedirs(output_path_images)\n",
    "\n",
    "print(output_path_images)"
   ]
  },
  {
   "cell_type": "code",
   "execution_count": 10,
   "id": "1bec33db",
   "metadata": {},
   "outputs": [
    {
     "name": "stdout",
     "output_type": "stream",
     "text": [
      "number of image pairs:  0.5\n"
     ]
    }
   ],
   "source": [
    "from prepare_MSG_VIS_IR_dataset import generate_images_from_msg_dataset\n",
    "\n",
    "# generate images from msg files\n",
    "generate_images_from_msg_dataset(MSG_FILES, output_path_images, channel_settings, \n",
    "                                 IMAGE_SIZE, HOUR_START, HOUR_END)"
   ]
  },
  {
   "cell_type": "code",
   "execution_count": 15,
   "id": "a73ab819",
   "metadata": {},
   "outputs": [
    {
     "name": "stdout",
     "output_type": "stream",
     "text": [
      "number of image pairs:  529\n"
     ]
    }
   ],
   "source": [
    "print(\"number of image pairs: \", len(glob.glob(f\"{output_path_images}/IR_108/**\", recursive=True)))"
   ]
  },
  {
   "cell_type": "code",
   "execution_count": null,
   "id": "cbd805a2",
   "metadata": {},
   "outputs": [],
   "source": []
  }
 ],
 "metadata": {
  "kernelspec": {
   "display_name": "Python 3",
   "language": "python",
   "name": "python3"
  },
  "language_info": {
   "codemirror_mode": {
    "name": "ipython",
    "version": 3
   },
   "file_extension": ".py",
   "mimetype": "text/x-python",
   "name": "python",
   "nbconvert_exporter": "python",
   "pygments_lexer": "ipython3",
   "version": "3.11.9"
  }
 },
 "nbformat": 4,
 "nbformat_minor": 5
}
